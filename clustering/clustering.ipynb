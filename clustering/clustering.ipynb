{
 "cells": [
  {
   "cell_type": "code",
   "execution_count": 36,
   "metadata": {
    "collapsed": true
   },
   "outputs": [],
   "source": [
    "from sklearn.cluster import KMeans\n",
    "from sklearn.mixture import GaussianMixture"
   ]
  },
  {
   "cell_type": "code",
   "execution_count": 120,
   "metadata": {
    "collapsed": true
   },
   "outputs": [],
   "source": [
    "n_clusters = 5\n",
    "n_members = [100 for i in range(n_clusters)]\n",
    "dim = 1000\n",
    "std = 30"
   ]
  },
  {
   "cell_type": "code",
   "execution_count": 127,
   "metadata": {},
   "outputs": [],
   "source": [
    "scores = []\n",
    "\n",
    "for ninit in range(1,20):\n",
    "    space = np.zeros([dim,dim])\n",
    "    centers = [np.random.randint(0,dim,size=2) for i in range(n_clusters)]\n",
    "\n",
    "    pts = np.empty([np.sum(n_members), 3]) # y, x, cluster_id\n",
    "    i = 0\n",
    "    for clust_id,(c,n) in enumerate(zip(centers, n_members)):\n",
    "        clust_id = np.array([clust_id]*n)\n",
    "        cy = np.random.normal(c[0], std, size=n)\n",
    "        cx = np.random.normal(c[1],std, size=n)\n",
    "        pts[i:i+n] = np.array([cy, cx, clust_id]).T\n",
    "        i += n\n",
    "\n",
    "    #init = np.random.randint(0,dim,size=[5,2])\n",
    "\n",
    "    km = KMeans(n_clusters=5, n_init=ninit)\n",
    "    km.fit(pts[:,:-1])\n",
    "\n",
    "    centers_ = km.cluster_centers_\n",
    "    labs_ = km.labels_\n",
    "\n",
    "    gm = GaussianMixture(n_components=5)\n",
    "    gm.fit(pts[:,:-1])\n",
    "\n",
    "    means_ = gm.means_\n",
    "    glabs = gm.predict(pts[:,:-1])\n",
    "\n",
    "    def dist(a,b):\n",
    "        return np.sqrt(np.sum((a-b)**2))\n",
    "\n",
    "    # k means\n",
    "    dists_kmeans = np.array([dist(np.array(pt),centers_[l]) for l,pt in zip(labs_,pts[:,:-1])])\n",
    "    dists_gmm = np.array([dist(np.array(pt),means_[l]) for l,pt in zip(glabs,pts[:,:-1])])\n",
    "\n",
    "    score_kmeans = np.sqrt(np.sum(dists_kmeans**2))\n",
    "    score_gmm = np.sqrt(np.sum(dists_gmm**2))\n",
    "    scores.append([score_kmeans, score_gmm])\n",
    "    \n",
    "scores = np.array(scores)"
   ]
  },
  {
   "cell_type": "code",
   "execution_count": 130,
   "metadata": {},
   "outputs": [
    {
     "data": {
      "text/plain": [
       "[<matplotlib.lines.Line2D at 0x1254fa160>]"
      ]
     },
     "execution_count": 130,
     "metadata": {},
     "output_type": "execute_result"
    }
   ],
   "source": [
    "pl.plot(np.diff(scores,axis=1))"
   ]
  },
  {
   "cell_type": "code",
   "execution_count": 129,
   "metadata": {
    "collapsed": true
   },
   "outputs": [],
   "source": [
    "pl.close('all')"
   ]
  },
  {
   "cell_type": "code",
   "execution_count": 124,
   "metadata": {},
   "outputs": [],
   "source": [
    "fig,axs = pl.subplots(1,3)\n",
    "\n",
    "axs[0].scatter(pts.T[1], pts.T[0], c=pts.T[2])\n",
    "axs[0].set_title('True')\n",
    "\n",
    "\n",
    "axs[1].scatter(pts.T[1], pts.T[0], c=labs_)\n",
    "axs[1].scatter(centers_.T[1], centers_.T[0], marker='x', color='k', lw=4, s=100)\n",
    "axs[1].scatter(init.T[1], init.T[0], marker='*', color='k', lw=4, s=100)\n",
    "\n",
    "axs[1].set_title('K-means')\n",
    "\n",
    "axs[2].scatter(pts.T[1], pts.T[0], c=glabs)\n",
    "axs[2].scatter(means_.T[1], means_.T[0], marker='x', color='k', lw=4, s=100)\n",
    "axs[2].set_title('GMM')\n",
    "\n",
    "for ax in axs:\n",
    "    ax.set_xticks([])\n",
    "    ax.set_yticks([])\n"
   ]
  },
  {
   "cell_type": "code",
   "execution_count": 125,
   "metadata": {},
   "outputs": [],
   "source": []
  },
  {
   "cell_type": "code",
   "execution_count": 126,
   "metadata": {},
   "outputs": [
    {
     "name": "stdout",
     "output_type": "stream",
     "text": [
      "918.229157777\n",
      "920.552899561\n"
     ]
    }
   ],
   "source": []
  },
  {
   "cell_type": "code",
   "execution_count": 106,
   "metadata": {
    "collapsed": true
   },
   "outputs": [],
   "source": [
    "KMeans?"
   ]
  },
  {
   "cell_type": "code",
   "execution_count": null,
   "metadata": {
    "collapsed": true
   },
   "outputs": [],
   "source": []
  }
 ],
 "metadata": {
  "kernelspec": {
   "display_name": "Python [default]",
   "language": "python",
   "name": "python3"
  },
  "language_info": {
   "codemirror_mode": {
    "name": "ipython",
    "version": 3
   },
   "file_extension": ".py",
   "mimetype": "text/x-python",
   "name": "python",
   "nbconvert_exporter": "python",
   "pygments_lexer": "ipython3",
   "version": "3.5.3"
  }
 },
 "nbformat": 4,
 "nbformat_minor": 2
}
