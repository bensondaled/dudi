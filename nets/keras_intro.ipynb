{
 "cells": [
  {
   "cell_type": "code",
   "execution_count": null,
   "metadata": {},
   "outputs": [],
   "source": [
    "from keras.models import Sequential, Model\n",
    "from keras.layers import Dense, Activation, Flatten, Dropout\n",
    "from keras.layers.convolutional import Conv2D, MaxPooling2D\n",
    "from keras.datasets import mnist\n",
    "from keras.utils.np_utils import to_categorical"
   ]
  },
  {
   "cell_type": "code",
   "execution_count": null,
   "metadata": {
    "collapsed": true
   },
   "outputs": [],
   "source": [
    "# load data\n",
    "(X_train, y_train), (X_test, y_test) = mnist.load_data()"
   ]
  },
  {
   "cell_type": "code",
   "execution_count": null,
   "metadata": {},
   "outputs": [],
   "source": [
    "# reshape data\n",
    "\n",
    "X_train = X_train.astype(np.float32) / 255\n",
    "X_test = X_test.astype(np.float32) / 255\n",
    "\n",
    "X_train_conv = X_train.reshape([len(X_train), 28, 28, 1]).astype(np.float32)\n",
    "X_test_conv = X_test.reshape([len(X_test), 28, 28, 1]).astype(np.float32)\n",
    "\n",
    "X_train_flat = X_train.reshape([len(X_train), -1]).astype(np.float32)\n",
    "X_test_flat = X_test.reshape([len(X_test), -1]).astype(np.float32)\n",
    "ndim_in = X_train_flat.shape[1]\n",
    "\n",
    "y_train = to_categorical(y_train)\n",
    "y_test = to_categorical(y_test)\n",
    "ndim_out = y_train.shape[1]"
   ]
  },
  {
   "cell_type": "code",
   "execution_count": null,
   "metadata": {
    "collapsed": true
   },
   "outputs": [],
   "source": [
    "# select options\n",
    "\n",
    "mode = 'conv'\n",
    "\n",
    "if mode == 'conv':\n",
    "    X_train = X_train_conv\n",
    "    X_test = X_test_conv\n",
    "    n_epochs = 4\n",
    "elif mode == 'basic':\n",
    "    X_train = X_train_flat\n",
    "    X_test = X_test_flat\n",
    "    n_epochs = 10"
   ]
  },
  {
   "cell_type": "code",
   "execution_count": 18,
   "metadata": {},
   "outputs": [],
   "source": [
    "# define the network\n",
    "\n",
    "if mode == 'conv':\n",
    "    layers = [\n",
    "                Conv2D(10, kernel_size=(5,5), activation='relu', input_shape=(28,28,1), strides=(1,1)),\n",
    "                MaxPooling2D(pool_size=(2,2), strides=(2,2)),\n",
    "                Dropout(.2),\n",
    "                Flatten(),\n",
    "                Dense(128, activation='relu'),\n",
    "                Dense(ndim_out, activation='softmax')\n",
    "             ]\n",
    "\n",
    "\n",
    "elif mode == 'basic':\n",
    "    layers = [ \n",
    "                Dense(100, activation='sigmoid', input_shape=(ndim_in,)),\n",
    "                Dense(10, activation='sigmoid'),\n",
    "                Dense(ndim_out, activation='softmax')\n",
    "             ]\n",
    "\n",
    "model = Sequential()\n",
    "for l in layers:\n",
    "    model.add(l)"
   ]
  },
  {
   "cell_type": "code",
   "execution_count": 19,
   "metadata": {
    "collapsed": true
   },
   "outputs": [],
   "source": [
    "model.compile(loss='categorical_crossentropy',\n",
    "              optimizer='adam',\n",
    "              metrics=['accuracy'])"
   ]
  },
  {
   "cell_type": "code",
   "execution_count": 20,
   "metadata": {},
   "outputs": [
    {
     "name": "stdout",
     "output_type": "stream",
     "text": [
      "Train on 54000 samples, validate on 6000 samples\n",
      "Epoch 1/4\n",
      "54000/54000 [==============================] - 18s - loss: 0.5408 - acc: 0.8549 - val_loss: 0.1685 - val_acc: 0.9538\n",
      "Epoch 2/4\n",
      "54000/54000 [==============================] - 17s - loss: 0.1677 - acc: 0.9507 - val_loss: 0.0984 - val_acc: 0.9752\n",
      "Epoch 3/4\n",
      "54000/54000 [==============================] - 18s - loss: 0.1156 - acc: 0.9660 - val_loss: 0.0768 - val_acc: 0.9787\n",
      "Epoch 4/4\n",
      "54000/54000 [==============================] - 19s - loss: 0.0925 - acc: 0.9718 - val_loss: 0.0655 - val_acc: 0.9818\n"
     ]
    }
   ],
   "source": [
    "hist = model.fit(X_train, y_train, batch_size=500, epochs=n_epochs, validation_split=.1, verbose=1)"
   ]
  },
  {
   "cell_type": "code",
   "execution_count": 8,
   "metadata": {},
   "outputs": [
    {
     "name": "stdout",
     "output_type": "stream",
     "text": [
      "['loss', 'acc']\n",
      "[0.047270670714043082, 0.98550000000000004]\n"
     ]
    }
   ],
   "source": [
    "score = model.evaluate(X_test, y_test, verbose=0)\n",
    "print(model.metrics_names)\n",
    "print(score)"
   ]
  },
  {
   "cell_type": "code",
   "execution_count": null,
   "metadata": {},
   "outputs": [],
   "source": [
    "# Exercise: select 1 of each class in the test dataset, \n",
    "# show the original image, and title it with the prediction of our net\n",
    "# hint: model.predict is useful"
   ]
  },
  {
   "cell_type": "code",
   "execution_count": 21,
   "metadata": {},
   "outputs": [
    {
     "name": "stdout",
     "output_type": "stream",
     "text": [
      "             precision    recall  f1-score   support\n",
      "\n",
      "          0       0.98      0.99      0.99       980\n",
      "          1       0.98      0.99      0.99      1135\n",
      "          2       0.97      0.98      0.98      1032\n",
      "          3       0.98      0.98      0.98      1010\n",
      "          4       0.98      0.99      0.98       982\n",
      "          5       0.98      0.99      0.98       892\n",
      "          6       0.99      0.97      0.98       958\n",
      "          7       0.98      0.96      0.97      1028\n",
      "          8       0.97      0.97      0.97       974\n",
      "          9       0.97      0.97      0.97      1009\n",
      "\n",
      "avg / total       0.98      0.98      0.98     10000\n",
      "\n"
     ]
    }
   ],
   "source": [
    "# a good shortcut for evaluating the network\n",
    "\n",
    "from sklearn.metrics import classification_report\n",
    "\n",
    "y_pred = model.predict(X_test)\n",
    "\n",
    "# convert back to simpler format\n",
    "y_pred_ = np.argmax(y_pred, axis=1)\n",
    "y_test_ = np.argmax(y_test, axis=1)\n",
    "\n",
    "print(classification_report(y_test_, y_pred_))"
   ]
  },
  {
   "cell_type": "code",
   "execution_count": null,
   "metadata": {},
   "outputs": [],
   "source": [
    "for lyr in model.layers:\n",
    "    w = lyr.get_weights()"
   ]
  },
  {
   "cell_type": "code",
   "execution_count": 46,
   "metadata": {},
   "outputs": [],
   "source": [
    "output_1 = Model(inputs=model.input, outputs=model.get_layer(index=2).output)\n",
    "inspect = output_1.predict(X_test)"
   ]
  },
  {
   "cell_type": "code",
   "execution_count": 63,
   "metadata": {},
   "outputs": [],
   "source": [
    "ex_idx = 2\n",
    "feature_idx = 6\n",
    "img_in = X_test[ex_idx,...,0]\n",
    "img_out = inspect[ex_idx,:,:,feature_idx]"
   ]
  },
  {
   "cell_type": "code",
   "execution_count": 64,
   "metadata": {},
   "outputs": [
    {
     "data": {
      "text/plain": [
       "<matplotlib.image.AxesImage at 0x13ab30940>"
      ]
     },
     "execution_count": 64,
     "metadata": {},
     "output_type": "execute_result"
    },
    {
     "data": {
      "image/png": "[encoded data removed]",
      "text/plain": [
       "<matplotlib.figure.Figure at 0x13a97d470>"
      ]
     },
     "metadata": {},
     "output_type": "display_data"
    }
   ],
   "source": [
    "%matplotlib inline\n",
    "fig,axs = pl.subplots(1,2)\n",
    "\n",
    "axs[0].imshow(img_in)\n",
    "axs[1].imshow(img_out)"
   ]
  },
  {
   "cell_type": "code",
   "execution_count": 48,
   "metadata": {},
   "outputs": [
    {
     "data": {
      "text/plain": [
       "(10000, 28, 28, 1)"
      ]
     },
     "execution_count": 48,
     "metadata": {},
     "output_type": "execute_result"
    }
   ],
   "source": [
    "X_test.shape"
   ]
  },
  {
   "cell_type": "code",
   "execution_count": null,
   "metadata": {
    "collapsed": true
   },
   "outputs": [],
   "source": []
  }
 ],
 "metadata": {
  "kernelspec": {
   "display_name": "Python [default]",
   "language": "python",
   "name": "python3"
  },
  "language_info": {
   "codemirror_mode": {
    "name": "ipython",
    "version": 3
   },
   "file_extension": ".py",
   "mimetype": "text/x-python",
   "name": "python",
   "nbconvert_exporter": "python",
   "pygments_lexer": "ipython3",
   "version": "3.5.3"
  }
 },
 "nbformat": 4,
 "nbformat_minor": 2
}
